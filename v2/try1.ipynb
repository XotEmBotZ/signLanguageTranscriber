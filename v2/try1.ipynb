{
 "cells": [
  {
   "cell_type": "code",
   "execution_count": 1,
   "metadata": {
    "notebookRunGroups": {
     "groupValue": "1"
    }
   },
   "outputs": [
    {
     "name": "stderr",
     "output_type": "stream",
     "text": [
      "2023-12-01 10:51:51.409009: I external/local_tsl/tsl/cuda/cudart_stub.cc:31] Could not find cuda drivers on your machine, GPU will not be used.\n",
      "2023-12-01 10:51:51.452245: E external/local_xla/xla/stream_executor/cuda/cuda_dnn.cc:9261] Unable to register cuDNN factory: Attempting to register factory for plugin cuDNN when one has already been registered\n",
      "2023-12-01 10:51:51.452278: E external/local_xla/xla/stream_executor/cuda/cuda_fft.cc:607] Unable to register cuFFT factory: Attempting to register factory for plugin cuFFT when one has already been registered\n",
      "2023-12-01 10:51:51.453416: E external/local_xla/xla/stream_executor/cuda/cuda_blas.cc:1515] Unable to register cuBLAS factory: Attempting to register factory for plugin cuBLAS when one has already been registered\n",
      "2023-12-01 10:51:51.459606: I external/local_tsl/tsl/cuda/cudart_stub.cc:31] Could not find cuda drivers on your machine, GPU will not be used.\n",
      "2023-12-01 10:51:51.460349: I tensorflow/core/platform/cpu_feature_guard.cc:182] This TensorFlow binary is optimized to use available CPU instructions in performance-critical operations.\n",
      "To enable the following instructions: AVX2 FMA, in other operations, rebuild TensorFlow with the appropriate compiler flags.\n",
      "2023-12-01 10:51:52.875203: W tensorflow/compiler/tf2tensorrt/utils/py_utils.cc:38] TF-TRT Warning: Could not find TensorRT\n"
     ]
    }
   ],
   "source": [
    "import cv2\n",
    "import numpy as np\n",
    "import os\n",
    "from matplotlib import pyplot as plt\n",
    "import time\n",
    "import mediapipe as mp\n",
    "from pprint import pprint\n",
    "from mediapipe import solutions\n",
    "from mediapipe.framework.formats import landmark_pb2\n",
    "from sklearn.model_selection import train_test_split\n",
    "from tensorflow.keras.utils import to_categorical\n",
    "from tensorflow.keras.models import Sequential\n",
    "from tensorflow.keras.layers import LSTM, Dense\n",
    "from tensorflow.keras.callbacks import TensorBoard\n",
    "from sklearn.metrics import multilabel_confusion_matrix, accuracy_score\n",
    "from scipy import stats"
   ]
  },
  {
   "cell_type": "code",
   "execution_count": 2,
   "metadata": {
    "notebookRunGroups": {
     "groupValue": "1"
    }
   },
   "outputs": [],
   "source": [
    "BaseOptions = mp.tasks.BaseOptions\n",
    "VisionRunningMode = mp.tasks.vision.RunningMode\n",
    "\n",
    "HandLandmarker = mp.tasks.vision.HandLandmarker\n",
    "HandLandmarkerOptions = mp.tasks.vision.HandLandmarkerOptions\n",
    "\n",
    "FaceLandmarker = mp.tasks.vision.FaceLandmarker\n",
    "FaceLandmarkerOptions = mp.tasks.vision.FaceLandmarkerOptions\n",
    "\n",
    "\n",
    "PoseLandmarker = mp.tasks.vision.PoseLandmarker\n",
    "PoseLandmarkerOptions = mp.tasks.vision.PoseLandmarkerOptions"
   ]
  },
  {
   "cell_type": "code",
   "execution_count": 3,
   "metadata": {
    "notebookRunGroups": {
     "groupValue": "1"
    }
   },
   "outputs": [],
   "source": [
    "hand_model_path = './models/hand_landmarkr_full.task'\n",
    "face_model_path = './models/face_landmarker.task'\n",
    "pose_model_path = './models/pose_landmarker_heavy.task'"
   ]
  },
  {
   "cell_type": "code",
   "execution_count": 4,
   "metadata": {
    "notebookRunGroups": {
     "groupValue": "1"
    }
   },
   "outputs": [],
   "source": [
    "handOptions = HandLandmarkerOptions(\n",
    "    base_options=BaseOptions(model_asset_path=hand_model_path),\n",
    "    running_mode=VisionRunningMode.VIDEO,\n",
    "    num_hands=2)\n",
    "\n",
    "faceOptions = FaceLandmarkerOptions(\n",
    "    base_options=BaseOptions(model_asset_path=face_model_path),\n",
    "    running_mode=VisionRunningMode.VIDEO)\n",
    "\n",
    "poseOptions = PoseLandmarkerOptions(\n",
    "    base_options=BaseOptions(model_asset_path=pose_model_path),\n",
    "    running_mode=VisionRunningMode.VIDEO)"
   ]
  },
  {
   "cell_type": "code",
   "execution_count": 5,
   "metadata": {
    "notebookRunGroups": {
     "groupValue": "12"
    }
   },
   "outputs": [
    {
     "name": "stderr",
     "output_type": "stream",
     "text": [
      "WARNING: All log messages before absl::InitializeLog() is called are written to STDERR\n",
      "I0000 00:00:1701408126.973608  108640 gl_context_egl.cc:85] Successfully initialized EGL. Major : 1 Minor: 5\n",
      "I0000 00:00:1701408126.977047  108779 gl_context.cc:344] GL version: 3.2 (OpenGL ES 3.2 Mesa 23.2.1), renderer: AMD Radeon Graphics (renoir, LLVM 16.0.6, DRM 3.54, 6.5.12-300.fc39.x86_64)\n",
      "INFO: Created TensorFlow Lite XNNPACK delegate for CPU.\n",
      "I0000 00:00:1701408127.029178  108640 gl_context_egl.cc:85] Successfully initialized EGL. Major : 1 Minor: 5\n",
      "I0000 00:00:1701408127.030356  108798 gl_context.cc:344] GL version: 3.2 (OpenGL ES 3.2 Mesa 23.2.1), renderer: AMD Radeon Graphics (renoir, LLVM 16.0.6, DRM 3.54, 6.5.12-300.fc39.x86_64)\n",
      "W0000 00:00:1701408127.030657  108640 face_landmarker_graph.cc:174] Sets FaceBlendshapesGraph acceleration to xnnpack by default.\n",
      "I0000 00:00:1701408127.060629  108640 gl_context_egl.cc:85] Successfully initialized EGL. Major : 1 Minor: 5\n",
      "I0000 00:00:1701408127.061806  108817 gl_context.cc:344] GL version: 3.2 (OpenGL ES 3.2 Mesa 23.2.1), renderer: AMD Radeon Graphics (renoir, LLVM 16.0.6, DRM 3.54, 6.5.12-300.fc39.x86_64)\n"
     ]
    }
   ],
   "source": [
    "def initModels():\n",
    "    handLandmarker=HandLandmarker.create_from_options(handOptions)\n",
    "    faceLandmarker=FaceLandmarker.create_from_options(faceOptions)\n",
    "    poseLandmarker=PoseLandmarker.create_from_options(poseOptions)\n",
    "    return handLandmarker,faceLandmarker,poseLandmarker\n",
    "handLandmarker=HandLandmarker.create_from_options(handOptions)\n",
    "faceLandmarker=FaceLandmarker.create_from_options(faceOptions)\n",
    "poseLandmarker=PoseLandmarker.create_from_options(poseOptions)\n",
    "# initModels()"
   ]
  },
  {
   "cell_type": "code",
   "execution_count": 6,
   "metadata": {
    "notebookRunGroups": {
     "groupValue": "1"
    }
   },
   "outputs": [],
   "source": [
    "def draw_landmarks_on_image(rgb_image, pose_detection_result,hand_detection_result):\n",
    "  pose_landmarks_list = pose_detection_result.pose_landmarks\n",
    "  \n",
    "  hand_landmarks_list = hand_detection_result.hand_landmarks\n",
    "  handedness_list = hand_detection_result.handedness\n",
    "  \n",
    "  annotated_image = np.copy(rgb_image)\n",
    "\n",
    "  MARGIN = 10  # pixels\n",
    "  FONT_SIZE = 1\n",
    "  FONT_THICKNESS = 1\n",
    "  HANDEDNESS_TEXT_COLOR = (88, 205, 54) # vibrant green\n",
    "\n",
    "  # Loop through the detected poses to visualize.\n",
    "  for idx in range(len(pose_landmarks_list)):\n",
    "    pose_landmarks = pose_landmarks_list[idx]\n",
    "\n",
    "    # Draw the pose landmarks.\n",
    "    pose_landmarks_proto = landmark_pb2.NormalizedLandmarkList()\n",
    "    pose_landmarks_proto.landmark.extend([\n",
    "        landmark_pb2.NormalizedLandmark(x=landmark.x, y=landmark.y, z=landmark.z) for landmark in pose_landmarks\n",
    "    ])\n",
    "    solutions.drawing_utils.draw_landmarks(\n",
    "        annotated_image,\n",
    "        pose_landmarks_proto,\n",
    "        solutions.pose.POSE_CONNECTIONS,\n",
    "        solutions.drawing_styles.get_default_pose_landmarks_style())\n",
    "    \n",
    "  # Loop through the detected hands to visualize.\n",
    "  for idx in range(len(hand_landmarks_list)):\n",
    "    hand_landmarks = hand_landmarks_list[idx]\n",
    "    handedness = handedness_list[idx]\n",
    "\n",
    "    # Draw the hand landmarks.\n",
    "    hand_landmarks_proto = landmark_pb2.NormalizedLandmarkList()\n",
    "    hand_landmarks_proto.landmark.extend([\n",
    "        landmark_pb2.NormalizedLandmark(x=landmark.x, y=landmark.y, z=landmark.z) for landmark in hand_landmarks\n",
    "    ])\n",
    "    solutions.drawing_utils.draw_landmarks(\n",
    "        annotated_image,\n",
    "        hand_landmarks_proto,\n",
    "        solutions.hands.HAND_CONNECTIONS,\n",
    "        solutions.drawing_styles.get_default_hand_landmarks_style(),\n",
    "        solutions.drawing_styles.get_default_hand_connections_style())\n",
    "\n",
    "    # Get the top left corner of the detected hand's bounding box.\n",
    "    height, width, _ = annotated_image.shape\n",
    "    x_coordinates = [landmark.x for landmark in hand_landmarks]\n",
    "    y_coordinates = [landmark.y for landmark in hand_landmarks]\n",
    "    text_x = int(min(x_coordinates) * width)\n",
    "    text_y = int(min(y_coordinates) * height) - MARGIN\n",
    "\n",
    "    # Draw handedness (left or right hand) on the image.\n",
    "    cv2.putText(annotated_image, f\"{handedness[0].category_name}\",\n",
    "                (text_x, text_y), cv2.FONT_HERSHEY_DUPLEX,\n",
    "                FONT_SIZE, HANDEDNESS_TEXT_COLOR, FONT_THICKNESS, cv2.LINE_AA)\n",
    "  return annotated_image"
   ]
  },
  {
   "cell_type": "code",
   "execution_count": 7,
   "metadata": {
    "notebookRunGroups": {
     "groupValue": "1"
    }
   },
   "outputs": [],
   "source": [
    "def save_data(pose_landmarket_result, hand_landmarker_result, name=None,npReturn=False):\n",
    "    \n",
    "    if len(pose_landmarket_result.pose_landmarks) > 0:\n",
    "        finalPoseData: np.ndarray = np.array([[i.x, i.y, i.z]\n",
    "                                              for i in pose_landmarket_result.pose_landmarks[0]]).flatten()\n",
    "    else:\n",
    "        finalPoseData = np.zeros((99,))\n",
    "    finalLeftHandData = np.zeros((63,))\n",
    "    finalRightHandData = np.zeros((63,))\n",
    "    for idx in range(len(hand_landmarker_result.hand_landmarks)):\n",
    "        \n",
    "        if hand_landmarker_result.handedness[idx][0].category_name == \"Left\":\n",
    "            finalLeftHandData=np.array([[i.x, i.y, i.z] for i in hand_landmarker_result.hand_landmarks[[idx][0]]]).flatten()\n",
    "        else:\n",
    "            finalRightHandData = np.array([[i.x, i.y, i.z] for i in hand_landmarker_result.hand_landmarks[[idx][0]]]).flatten()\n",
    "\n",
    "    if npReturn:\n",
    "        return np.concatenate([ finalPoseData, finalLeftHandData, finalRightHandData])\n",
    "    np.save(name, np.concatenate([ finalPoseData, finalLeftHandData, finalRightHandData]))"
   ]
  },
  {
   "cell_type": "code",
   "execution_count": 8,
   "metadata": {},
   "outputs": [
    {
     "name": "stderr",
     "output_type": "stream",
     "text": [
      "I0000 00:00:1701408139.224383  108640 gl_context_egl.cc:85] Successfully initialized EGL. Major : 1 Minor: 5\n",
      "I0000 00:00:1701408139.225741  108889 gl_context.cc:344] GL version: 3.2 (OpenGL ES 3.2 Mesa 23.2.1), renderer: AMD Radeon Graphics (renoir, LLVM 16.0.6, DRM 3.54, 6.5.12-300.fc39.x86_64)\n",
      "I0000 00:00:1701408139.263250  108640 gl_context_egl.cc:85] Successfully initialized EGL. Major : 1 Minor: 5\n",
      "I0000 00:00:1701408139.264393  108908 gl_context.cc:344] GL version: 3.2 (OpenGL ES 3.2 Mesa 23.2.1), renderer: AMD Radeon Graphics (renoir, LLVM 16.0.6, DRM 3.54, 6.5.12-300.fc39.x86_64)\n",
      "W0000 00:00:1701408139.264688  108640 face_landmarker_graph.cc:174] Sets FaceBlendshapesGraph acceleration to xnnpack by default.\n",
      "I0000 00:00:1701408139.293309  108640 gl_context_egl.cc:85] Successfully initialized EGL. Major : 1 Minor: 5\n",
      "I0000 00:00:1701408139.294783  108927 gl_context.cc:344] GL version: 3.2 (OpenGL ES 3.2 Mesa 23.2.1), renderer: AMD Radeon Graphics (renoir, LLVM 16.0.6, DRM 3.54, 6.5.12-300.fc39.x86_64)\n",
      "Warning: Ignoring XDG_SESSION_TYPE=wayland on Gnome. Use QT_QPA_PLATFORM=wayland to run on Wayland anyway.\n"
     ]
    }
   ],
   "source": [
    "cap = cv2.VideoCapture(0)\n",
    "prev_frame_time = 0\n",
    "new_frame_time = 0\n",
    "startTime=time.time()\n",
    "handLandmarker, faceLandmarker, poseLandmarker = initModels()\n",
    "while cap.isOpened():\n",
    "    new_frame_time = time.time()\n",
    "\n",
    "    ret, frame = cap.read()\n",
    "\n",
    "    mp_image = mp.Image(image_format=mp.ImageFormat.SRGB,\n",
    "                        data=cv2.cvtColor(frame, cv2.COLOR_BGR2RGB))\n",
    "    \n",
    "    hand_landmarker_result = handLandmarker.detect_for_video(\n",
    "        mp_image,int((time.time()-startTime)*1000))\n",
    "    pose_landmarket_result = poseLandmarker.detect_for_video(\n",
    "        mp_image,int((time.time()-startTime)*1000))\n",
    "\n",
    "    image = cv2.cvtColor(draw_landmarks_on_image(\n",
    "        mp_image.numpy_view(), pose_landmarket_result,hand_landmarker_result), cv2.COLOR_RGB2BGR)\n",
    "\n",
    "    # pprint(hand_landmarker_result.handedness)\n",
    "    save_data(pose_landmarket_result, hand_landmarker_result, \"testSave.npy\")\n",
    "\n",
    "    fps = 1/(new_frame_time-prev_frame_time)\n",
    "    prev_frame_time = new_frame_time\n",
    "    cv2.putText(image, f\"{fps:1f}\", (15, 50),\n",
    "                cv2.FONT_HERSHEY_PLAIN, 2, (255, 255, 255), 3)\n",
    "    cv2.imshow('OpenCV Feed', image)\n",
    "\n",
    "    if cv2.waitKey(10) & 0xFF == ord('q'):\n",
    "        break\n",
    "cap.release()\n",
    "cv2.destroyAllWindows()"
   ]
  },
  {
   "cell_type": "code",
   "execution_count": null,
   "metadata": {},
   "outputs": [],
   "source": [
    "cv2.destroyAllWindows()"
   ]
  },
  {
   "cell_type": "code",
   "execution_count": 9,
   "metadata": {},
   "outputs": [],
   "source": [
    "sign=['control','yes','no','thankYou','hello','iLoveYou','goodBye','please','sorry']"
   ]
  },
  {
   "cell_type": "code",
   "execution_count": 11,
   "metadata": {},
   "outputs": [],
   "source": [
    "DATA_PATH = os.path.join('data')\n",
    "actions = np.array(sign)\n",
    "no_sequences = 100\n",
    "# sequence_length = 15"
   ]
  },
  {
   "cell_type": "code",
   "execution_count": 12,
   "metadata": {},
   "outputs": [],
   "source": [
    "for action in actions:\n",
    "    try:\n",
    "        os.mkdir(DATA_PATH+f'/{action}')\n",
    "    except:\n",
    "        ..."
   ]
  },
  {
   "cell_type": "code",
   "execution_count": 38,
   "metadata": {},
   "outputs": [],
   "source": [
    "cap.release()\n",
    "cv2.destroyAllWindows()"
   ]
  },
  {
   "cell_type": "code",
   "execution_count": 17,
   "metadata": {},
   "outputs": [],
   "source": [
    "def collectData(action, length=no_sequences,start=0):\n",
    "    handLandmarker, faceLandmarker, poseLandmarker = initModels()\n",
    "    startTime = time.time()\n",
    "    for frame_num in range(length):\n",
    "        ret, frame = cap.read()\n",
    "\n",
    "        mp_image = mp.Image(image_format=mp.ImageFormat.SRGB,\n",
    "                            data=cv2.cvtColor(frame, cv2.COLOR_BGR2RGB))\n",
    "\n",
    "        hand_landmarker_result = handLandmarker.detect_for_video(\n",
    "            mp_image, int((time.time()-startTime)*1000))\n",
    "        pose_landmarket_result = poseLandmarker.detect_for_video(\n",
    "            mp_image, int((time.time()-startTime)*1000))\n",
    "\n",
    "        image = cv2.cvtColor(draw_landmarks_on_image(\n",
    "            mp_image.numpy_view(), pose_landmarket_result, hand_landmarker_result), cv2.COLOR_RGB2BGR)\n",
    "\n",
    "        if frame_num == 0:\n",
    "            cv2.putText(image, 'STARTING COLLECTION', (120, 200),\n",
    "                        cv2.FONT_HERSHEY_SIMPLEX, 1, (255, 255, 255), 4, cv2.LINE_AA)\n",
    "            cv2.putText(image, 'Collecting frames for {} Frame No {}'.format(action, frame_num), (15, 12),\n",
    "                        cv2.FONT_HERSHEY_SIMPLEX, 0.5, (255, 255, 255), 1, cv2.LINE_AA)\n",
    "            # Show to screen\n",
    "            cv2.imshow('OpenCV Feed', image)\n",
    "            cv2.waitKey(500)\n",
    "        else:\n",
    "            cv2.putText(image, 'Collecting frames for {} Frame No {}'.format(action, frame_num), (15, 12),\n",
    "                        cv2.FONT_HERSHEY_SIMPLEX, 0.5, (255, 255, 255), 1, cv2.LINE_AA)\n",
    "            # Show to screen\n",
    "            cv2.imshow('OpenCV Feed', image)\n",
    "\n",
    "        npy_path = os.path.join(\n",
    "            DATA_PATH,action, str(start+frame_num))\n",
    "        save_data(pose_landmarket_result,\n",
    "                    hand_landmarker_result, npy_path, )\n",
    "        # Break gracefully\n",
    "        cv2.imshow('OpenCV Feed', image)\n",
    "        if cv2.waitKey(10) & 0xFF == ord('q'):\n",
    "            break"
   ]
  },
  {
   "cell_type": "code",
   "execution_count": 24,
   "metadata": {},
   "outputs": [],
   "source": [
    "cap = cv2.VideoCapture(0)\n",
    "# collectData('please',1,0)\n",
    "# # time.sleep(5)\n",
    "# collectData('please',100,100)\n",
    "cap.release()\n",
    "cv2.destroyAllWindows()"
   ]
  },
  {
   "cell_type": "code",
   "execution_count": 21,
   "metadata": {},
   "outputs": [
    {
     "name": "stderr",
     "output_type": "stream",
     "text": [
      "I0000 00:00:1701409434.585687  108640 gl_context_egl.cc:85] Successfully initialized EGL. Major : 1 Minor: 5\n",
      "I0000 00:00:1701409434.586908  113495 gl_context.cc:344] GL version: 3.2 (OpenGL ES 3.2 Mesa 23.2.1), renderer: AMD Radeon Graphics (renoir, LLVM 16.0.6, DRM 3.54, 6.5.12-300.fc39.x86_64)\n",
      "I0000 00:00:1701409434.618548  108640 gl_context_egl.cc:85] Successfully initialized EGL. Major : 1 Minor: 5\n",
      "I0000 00:00:1701409434.619461  113514 gl_context.cc:344] GL version: 3.2 (OpenGL ES 3.2 Mesa 23.2.1), renderer: AMD Radeon Graphics (renoir, LLVM 16.0.6, DRM 3.54, 6.5.12-300.fc39.x86_64)\n",
      "W0000 00:00:1701409434.619696  108640 face_landmarker_graph.cc:174] Sets FaceBlendshapesGraph acceleration to xnnpack by default.\n",
      "I0000 00:00:1701409434.642448  108640 gl_context_egl.cc:85] Successfully initialized EGL. Major : 1 Minor: 5\n",
      "I0000 00:00:1701409434.644405  113533 gl_context.cc:344] GL version: 3.2 (OpenGL ES 3.2 Mesa 23.2.1), renderer: AMD Radeon Graphics (renoir, LLVM 16.0.6, DRM 3.54, 6.5.12-300.fc39.x86_64)\n",
      "I0000 00:00:1701409459.793998  108640 gl_context_egl.cc:85] Successfully initialized EGL. Major : 1 Minor: 5\n",
      "I0000 00:00:1701409459.795014  113642 gl_context.cc:344] GL version: 3.2 (OpenGL ES 3.2 Mesa 23.2.1), renderer: AMD Radeon Graphics (renoir, LLVM 16.0.6, DRM 3.54, 6.5.12-300.fc39.x86_64)\n",
      "I0000 00:00:1701409459.830889  108640 gl_context_egl.cc:85] Successfully initialized EGL. Major : 1 Minor: 5\n",
      "I0000 00:00:1701409459.831898  113661 gl_context.cc:344] GL version: 3.2 (OpenGL ES 3.2 Mesa 23.2.1), renderer: AMD Radeon Graphics (renoir, LLVM 16.0.6, DRM 3.54, 6.5.12-300.fc39.x86_64)\n",
      "W0000 00:00:1701409459.832193  108640 face_landmarker_graph.cc:174] Sets FaceBlendshapesGraph acceleration to xnnpack by default.\n",
      "I0000 00:00:1701409459.852942  108640 gl_context_egl.cc:85] Successfully initialized EGL. Major : 1 Minor: 5\n",
      "I0000 00:00:1701409459.853910  113680 gl_context.cc:344] GL version: 3.2 (OpenGL ES 3.2 Mesa 23.2.1), renderer: AMD Radeon Graphics (renoir, LLVM 16.0.6, DRM 3.54, 6.5.12-300.fc39.x86_64)\n",
      "I0000 00:00:1701409502.858336  108640 gl_context_egl.cc:85] Successfully initialized EGL. Major : 1 Minor: 5\n",
      "I0000 00:00:1701409502.859315  113799 gl_context.cc:344] GL version: 3.2 (OpenGL ES 3.2 Mesa 23.2.1), renderer: AMD Radeon Graphics (renoir, LLVM 16.0.6, DRM 3.54, 6.5.12-300.fc39.x86_64)\n",
      "I0000 00:00:1701409502.895108  108640 gl_context_egl.cc:85] Successfully initialized EGL. Major : 1 Minor: 5\n",
      "I0000 00:00:1701409502.896054  113818 gl_context.cc:344] GL version: 3.2 (OpenGL ES 3.2 Mesa 23.2.1), renderer: AMD Radeon Graphics (renoir, LLVM 16.0.6, DRM 3.54, 6.5.12-300.fc39.x86_64)\n",
      "W0000 00:00:1701409502.896395  108640 face_landmarker_graph.cc:174] Sets FaceBlendshapesGraph acceleration to xnnpack by default.\n",
      "I0000 00:00:1701409502.917298  108640 gl_context_egl.cc:85] Successfully initialized EGL. Major : 1 Minor: 5\n",
      "I0000 00:00:1701409502.918338  113837 gl_context.cc:344] GL version: 3.2 (OpenGL ES 3.2 Mesa 23.2.1), renderer: AMD Radeon Graphics (renoir, LLVM 16.0.6, DRM 3.54, 6.5.12-300.fc39.x86_64)\n",
      "I0000 00:00:1701409528.733048  108640 gl_context_egl.cc:85] Successfully initialized EGL. Major : 1 Minor: 5\n",
      "I0000 00:00:1701409528.734247  113935 gl_context.cc:344] GL version: 3.2 (OpenGL ES 3.2 Mesa 23.2.1), renderer: AMD Radeon Graphics (renoir, LLVM 16.0.6, DRM 3.54, 6.5.12-300.fc39.x86_64)\n",
      "I0000 00:00:1701409528.764621  108640 gl_context_egl.cc:85] Successfully initialized EGL. Major : 1 Minor: 5\n",
      "I0000 00:00:1701409528.765706  113954 gl_context.cc:344] GL version: 3.2 (OpenGL ES 3.2 Mesa 23.2.1), renderer: AMD Radeon Graphics (renoir, LLVM 16.0.6, DRM 3.54, 6.5.12-300.fc39.x86_64)\n",
      "W0000 00:00:1701409528.765973  108640 face_landmarker_graph.cc:174] Sets FaceBlendshapesGraph acceleration to xnnpack by default.\n",
      "I0000 00:00:1701409528.779598  108640 gl_context_egl.cc:85] Successfully initialized EGL. Major : 1 Minor: 5\n",
      "I0000 00:00:1701409528.780784  113973 gl_context.cc:344] GL version: 3.2 (OpenGL ES 3.2 Mesa 23.2.1), renderer: AMD Radeon Graphics (renoir, LLVM 16.0.6, DRM 3.54, 6.5.12-300.fc39.x86_64)\n",
      "I0000 00:00:1701409563.229573  108640 gl_context_egl.cc:85] Successfully initialized EGL. Major : 1 Minor: 5\n",
      "I0000 00:00:1701409563.230714  114071 gl_context.cc:344] GL version: 3.2 (OpenGL ES 3.2 Mesa 23.2.1), renderer: AMD Radeon Graphics (renoir, LLVM 16.0.6, DRM 3.54, 6.5.12-300.fc39.x86_64)\n",
      "I0000 00:00:1701409563.267176  108640 gl_context_egl.cc:85] Successfully initialized EGL. Major : 1 Minor: 5\n",
      "I0000 00:00:1701409563.271816  114090 gl_context.cc:344] GL version: 3.2 (OpenGL ES 3.2 Mesa 23.2.1), renderer: AMD Radeon Graphics (renoir, LLVM 16.0.6, DRM 3.54, 6.5.12-300.fc39.x86_64)\n",
      "W0000 00:00:1701409563.273509  108640 face_landmarker_graph.cc:174] Sets FaceBlendshapesGraph acceleration to xnnpack by default.\n",
      "I0000 00:00:1701409563.285484  108640 gl_context_egl.cc:85] Successfully initialized EGL. Major : 1 Minor: 5\n",
      "I0000 00:00:1701409563.286475  114109 gl_context.cc:344] GL version: 3.2 (OpenGL ES 3.2 Mesa 23.2.1), renderer: AMD Radeon Graphics (renoir, LLVM 16.0.6, DRM 3.54, 6.5.12-300.fc39.x86_64)\n",
      "I0000 00:00:1701409588.852720  108640 gl_context_egl.cc:85] Successfully initialized EGL. Major : 1 Minor: 5\n",
      "I0000 00:00:1701409588.853908  114254 gl_context.cc:344] GL version: 3.2 (OpenGL ES 3.2 Mesa 23.2.1), renderer: AMD Radeon Graphics (renoir, LLVM 16.0.6, DRM 3.54, 6.5.12-300.fc39.x86_64)\n",
      "I0000 00:00:1701409588.878038  108640 gl_context_egl.cc:85] Successfully initialized EGL. Major : 1 Minor: 5\n",
      "I0000 00:00:1701409588.879147  114273 gl_context.cc:344] GL version: 3.2 (OpenGL ES 3.2 Mesa 23.2.1), renderer: AMD Radeon Graphics (renoir, LLVM 16.0.6, DRM 3.54, 6.5.12-300.fc39.x86_64)\n",
      "W0000 00:00:1701409588.879401  108640 face_landmarker_graph.cc:174] Sets FaceBlendshapesGraph acceleration to xnnpack by default.\n",
      "I0000 00:00:1701409588.893320  108640 gl_context_egl.cc:85] Successfully initialized EGL. Major : 1 Minor: 5\n",
      "I0000 00:00:1701409588.895676  114292 gl_context.cc:344] GL version: 3.2 (OpenGL ES 3.2 Mesa 23.2.1), renderer: AMD Radeon Graphics (renoir, LLVM 16.0.6, DRM 3.54, 6.5.12-300.fc39.x86_64)\n",
      "I0000 00:00:1701409622.386964  108640 gl_context_egl.cc:85] Successfully initialized EGL. Major : 1 Minor: 5\n",
      "I0000 00:00:1701409622.388204  114390 gl_context.cc:344] GL version: 3.2 (OpenGL ES 3.2 Mesa 23.2.1), renderer: AMD Radeon Graphics (renoir, LLVM 16.0.6, DRM 3.54, 6.5.12-300.fc39.x86_64)\n",
      "I0000 00:00:1701409622.417475  108640 gl_context_egl.cc:85] Successfully initialized EGL. Major : 1 Minor: 5\n",
      "I0000 00:00:1701409622.418433  114409 gl_context.cc:344] GL version: 3.2 (OpenGL ES 3.2 Mesa 23.2.1), renderer: AMD Radeon Graphics (renoir, LLVM 16.0.6, DRM 3.54, 6.5.12-300.fc39.x86_64)\n",
      "W0000 00:00:1701409622.418676  108640 face_landmarker_graph.cc:174] Sets FaceBlendshapesGraph acceleration to xnnpack by default.\n",
      "I0000 00:00:1701409622.447424  108640 gl_context_egl.cc:85] Successfully initialized EGL. Major : 1 Minor: 5\n",
      "I0000 00:00:1701409622.448436  114428 gl_context.cc:344] GL version: 3.2 (OpenGL ES 3.2 Mesa 23.2.1), renderer: AMD Radeon Graphics (renoir, LLVM 16.0.6, DRM 3.54, 6.5.12-300.fc39.x86_64)\n",
      "I0000 00:00:1701409648.322149  108640 gl_context_egl.cc:85] Successfully initialized EGL. Major : 1 Minor: 5\n",
      "I0000 00:00:1701409648.323520  114518 gl_context.cc:344] GL version: 3.2 (OpenGL ES 3.2 Mesa 23.2.1), renderer: AMD Radeon Graphics (renoir, LLVM 16.0.6, DRM 3.54, 6.5.12-300.fc39.x86_64)\n",
      "I0000 00:00:1701409648.348699  108640 gl_context_egl.cc:85] Successfully initialized EGL. Major : 1 Minor: 5\n",
      "I0000 00:00:1701409648.350190  114537 gl_context.cc:344] GL version: 3.2 (OpenGL ES 3.2 Mesa 23.2.1), renderer: AMD Radeon Graphics (renoir, LLVM 16.0.6, DRM 3.54, 6.5.12-300.fc39.x86_64)\n",
      "W0000 00:00:1701409648.350486  108640 face_landmarker_graph.cc:174] Sets FaceBlendshapesGraph acceleration to xnnpack by default.\n",
      "I0000 00:00:1701409648.370987  108640 gl_context_egl.cc:85] Successfully initialized EGL. Major : 1 Minor: 5\n",
      "I0000 00:00:1701409648.371991  114556 gl_context.cc:344] GL version: 3.2 (OpenGL ES 3.2 Mesa 23.2.1), renderer: AMD Radeon Graphics (renoir, LLVM 16.0.6, DRM 3.54, 6.5.12-300.fc39.x86_64)\n",
      "I0000 00:00:1701409677.994555  108640 gl_context_egl.cc:85] Successfully initialized EGL. Major : 1 Minor: 5\n",
      "I0000 00:00:1701409677.995571  114655 gl_context.cc:344] GL version: 3.2 (OpenGL ES 3.2 Mesa 23.2.1), renderer: AMD Radeon Graphics (renoir, LLVM 16.0.6, DRM 3.54, 6.5.12-300.fc39.x86_64)\n",
      "I0000 00:00:1701409678.031293  108640 gl_context_egl.cc:85] Successfully initialized EGL. Major : 1 Minor: 5\n",
      "I0000 00:00:1701409678.032379  114674 gl_context.cc:344] GL version: 3.2 (OpenGL ES 3.2 Mesa 23.2.1), renderer: AMD Radeon Graphics (renoir, LLVM 16.0.6, DRM 3.54, 6.5.12-300.fc39.x86_64)\n",
      "W0000 00:00:1701409678.033104  108640 face_landmarker_graph.cc:174] Sets FaceBlendshapesGraph acceleration to xnnpack by default.\n",
      "I0000 00:00:1701409678.054280  108640 gl_context_egl.cc:85] Successfully initialized EGL. Major : 1 Minor: 5\n",
      "I0000 00:00:1701409678.055213  114693 gl_context.cc:344] GL version: 3.2 (OpenGL ES 3.2 Mesa 23.2.1), renderer: AMD Radeon Graphics (renoir, LLVM 16.0.6, DRM 3.54, 6.5.12-300.fc39.x86_64)\n",
      "I0000 00:00:1701409704.246871  108640 gl_context_egl.cc:85] Successfully initialized EGL. Major : 1 Minor: 5\n",
      "I0000 00:00:1701409704.248026  114794 gl_context.cc:344] GL version: 3.2 (OpenGL ES 3.2 Mesa 23.2.1), renderer: AMD Radeon Graphics (renoir, LLVM 16.0.6, DRM 3.54, 6.5.12-300.fc39.x86_64)\n",
      "I0000 00:00:1701409704.281414  108640 gl_context_egl.cc:85] Successfully initialized EGL. Major : 1 Minor: 5\n",
      "I0000 00:00:1701409704.282280  114813 gl_context.cc:344] GL version: 3.2 (OpenGL ES 3.2 Mesa 23.2.1), renderer: AMD Radeon Graphics (renoir, LLVM 16.0.6, DRM 3.54, 6.5.12-300.fc39.x86_64)\n",
      "W0000 00:00:1701409704.282527  108640 face_landmarker_graph.cc:174] Sets FaceBlendshapesGraph acceleration to xnnpack by default.\n",
      "I0000 00:00:1701409704.297380  108640 gl_context_egl.cc:85] Successfully initialized EGL. Major : 1 Minor: 5\n",
      "I0000 00:00:1701409704.298425  114832 gl_context.cc:344] GL version: 3.2 (OpenGL ES 3.2 Mesa 23.2.1), renderer: AMD Radeon Graphics (renoir, LLVM 16.0.6, DRM 3.54, 6.5.12-300.fc39.x86_64)\n",
      "I0000 00:00:1701409736.502117  108640 gl_context_egl.cc:85] Successfully initialized EGL. Major : 1 Minor: 5\n",
      "I0000 00:00:1701409736.503249  114930 gl_context.cc:344] GL version: 3.2 (OpenGL ES 3.2 Mesa 23.2.1), renderer: AMD Radeon Graphics (renoir, LLVM 16.0.6, DRM 3.54, 6.5.12-300.fc39.x86_64)\n",
      "I0000 00:00:1701409736.533613  108640 gl_context_egl.cc:85] Successfully initialized EGL. Major : 1 Minor: 5\n",
      "I0000 00:00:1701409736.534741  114949 gl_context.cc:344] GL version: 3.2 (OpenGL ES 3.2 Mesa 23.2.1), renderer: AMD Radeon Graphics (renoir, LLVM 16.0.6, DRM 3.54, 6.5.12-300.fc39.x86_64)\n",
      "W0000 00:00:1701409736.535142  108640 face_landmarker_graph.cc:174] Sets FaceBlendshapesGraph acceleration to xnnpack by default.\n",
      "I0000 00:00:1701409736.552970  108640 gl_context_egl.cc:85] Successfully initialized EGL. Major : 1 Minor: 5\n",
      "I0000 00:00:1701409736.553944  114968 gl_context.cc:344] GL version: 3.2 (OpenGL ES 3.2 Mesa 23.2.1), renderer: AMD Radeon Graphics (renoir, LLVM 16.0.6, DRM 3.54, 6.5.12-300.fc39.x86_64)\n",
      "I0000 00:00:1701409762.789268  108640 gl_context_egl.cc:85] Successfully initialized EGL. Major : 1 Minor: 5\n",
      "I0000 00:00:1701409762.790288  115105 gl_context.cc:344] GL version: 3.2 (OpenGL ES 3.2 Mesa 23.2.1), renderer: AMD Radeon Graphics (renoir, LLVM 16.0.6, DRM 3.54, 6.5.12-300.fc39.x86_64)\n",
      "I0000 00:00:1701409762.822947  108640 gl_context_egl.cc:85] Successfully initialized EGL. Major : 1 Minor: 5\n",
      "I0000 00:00:1701409762.823989  115124 gl_context.cc:344] GL version: 3.2 (OpenGL ES 3.2 Mesa 23.2.1), renderer: AMD Radeon Graphics (renoir, LLVM 16.0.6, DRM 3.54, 6.5.12-300.fc39.x86_64)\n",
      "W0000 00:00:1701409762.824278  108640 face_landmarker_graph.cc:174] Sets FaceBlendshapesGraph acceleration to xnnpack by default.\n",
      "I0000 00:00:1701409762.841577  108640 gl_context_egl.cc:85] Successfully initialized EGL. Major : 1 Minor: 5\n",
      "I0000 00:00:1701409762.847910  115143 gl_context.cc:344] GL version: 3.2 (OpenGL ES 3.2 Mesa 23.2.1), renderer: AMD Radeon Graphics (renoir, LLVM 16.0.6, DRM 3.54, 6.5.12-300.fc39.x86_64)\n",
      "I0000 00:00:1701409809.283296  108640 gl_context_egl.cc:85] Successfully initialized EGL. Major : 1 Minor: 5\n",
      "I0000 00:00:1701409809.284348  115277 gl_context.cc:344] GL version: 3.2 (OpenGL ES 3.2 Mesa 23.2.1), renderer: AMD Radeon Graphics (renoir, LLVM 16.0.6, DRM 3.54, 6.5.12-300.fc39.x86_64)\n",
      "I0000 00:00:1701409809.305444  108640 gl_context_egl.cc:85] Successfully initialized EGL. Major : 1 Minor: 5\n",
      "I0000 00:00:1701409809.306405  115296 gl_context.cc:344] GL version: 3.2 (OpenGL ES 3.2 Mesa 23.2.1), renderer: AMD Radeon Graphics (renoir, LLVM 16.0.6, DRM 3.54, 6.5.12-300.fc39.x86_64)\n",
      "W0000 00:00:1701409809.306650  108640 face_landmarker_graph.cc:174] Sets FaceBlendshapesGraph acceleration to xnnpack by default.\n",
      "I0000 00:00:1701409809.317018  108640 gl_context_egl.cc:85] Successfully initialized EGL. Major : 1 Minor: 5\n",
      "I0000 00:00:1701409809.318334  115315 gl_context.cc:344] GL version: 3.2 (OpenGL ES 3.2 Mesa 23.2.1), renderer: AMD Radeon Graphics (renoir, LLVM 16.0.6, DRM 3.54, 6.5.12-300.fc39.x86_64)\n",
      "I0000 00:00:1701409835.335368  108640 gl_context_egl.cc:85] Successfully initialized EGL. Major : 1 Minor: 5\n",
      "I0000 00:00:1701409835.336555  115404 gl_context.cc:344] GL version: 3.2 (OpenGL ES 3.2 Mesa 23.2.1), renderer: AMD Radeon Graphics (renoir, LLVM 16.0.6, DRM 3.54, 6.5.12-300.fc39.x86_64)\n",
      "I0000 00:00:1701409835.356519  108640 gl_context_egl.cc:85] Successfully initialized EGL. Major : 1 Minor: 5\n",
      "I0000 00:00:1701409835.362924  115423 gl_context.cc:344] GL version: 3.2 (OpenGL ES 3.2 Mesa 23.2.1), renderer: AMD Radeon Graphics (renoir, LLVM 16.0.6, DRM 3.54, 6.5.12-300.fc39.x86_64)\n",
      "W0000 00:00:1701409835.363220  108640 face_landmarker_graph.cc:174] Sets FaceBlendshapesGraph acceleration to xnnpack by default.\n",
      "I0000 00:00:1701409835.383691  108640 gl_context_egl.cc:85] Successfully initialized EGL. Major : 1 Minor: 5\n",
      "I0000 00:00:1701409835.384585  115442 gl_context.cc:344] GL version: 3.2 (OpenGL ES 3.2 Mesa 23.2.1), renderer: AMD Radeon Graphics (renoir, LLVM 16.0.6, DRM 3.54, 6.5.12-300.fc39.x86_64)\n",
      "I0000 00:00:1701409870.033183  108640 gl_context_egl.cc:85] Successfully initialized EGL. Major : 1 Minor: 5\n",
      "I0000 00:00:1701409870.034316  115549 gl_context.cc:344] GL version: 3.2 (OpenGL ES 3.2 Mesa 23.2.1), renderer: AMD Radeon Graphics (renoir, LLVM 16.0.6, DRM 3.54, 6.5.12-300.fc39.x86_64)\n",
      "I0000 00:00:1701409870.049278  108640 gl_context_egl.cc:85] Successfully initialized EGL. Major : 1 Minor: 5\n",
      "I0000 00:00:1701409870.050257  115568 gl_context.cc:344] GL version: 3.2 (OpenGL ES 3.2 Mesa 23.2.1), renderer: AMD Radeon Graphics (renoir, LLVM 16.0.6, DRM 3.54, 6.5.12-300.fc39.x86_64)\n",
      "W0000 00:00:1701409870.050502  108640 face_landmarker_graph.cc:174] Sets FaceBlendshapesGraph acceleration to xnnpack by default.\n",
      "I0000 00:00:1701409870.072347  108640 gl_context_egl.cc:85] Successfully initialized EGL. Major : 1 Minor: 5\n",
      "I0000 00:00:1701409870.073296  115587 gl_context.cc:344] GL version: 3.2 (OpenGL ES 3.2 Mesa 23.2.1), renderer: AMD Radeon Graphics (renoir, LLVM 16.0.6, DRM 3.54, 6.5.12-300.fc39.x86_64)\n",
      "I0000 00:00:1701409895.963906  108640 gl_context_egl.cc:85] Successfully initialized EGL. Major : 1 Minor: 5\n",
      "I0000 00:00:1701409895.965178  115676 gl_context.cc:344] GL version: 3.2 (OpenGL ES 3.2 Mesa 23.2.1), renderer: AMD Radeon Graphics (renoir, LLVM 16.0.6, DRM 3.54, 6.5.12-300.fc39.x86_64)\n",
      "I0000 00:00:1701409895.985022  108640 gl_context_egl.cc:85] Successfully initialized EGL. Major : 1 Minor: 5\n",
      "I0000 00:00:1701409895.985961  115695 gl_context.cc:344] GL version: 3.2 (OpenGL ES 3.2 Mesa 23.2.1), renderer: AMD Radeon Graphics (renoir, LLVM 16.0.6, DRM 3.54, 6.5.12-300.fc39.x86_64)\n",
      "W0000 00:00:1701409895.986207  108640 face_landmarker_graph.cc:174] Sets FaceBlendshapesGraph acceleration to xnnpack by default.\n",
      "I0000 00:00:1701409895.996937  108640 gl_context_egl.cc:85] Successfully initialized EGL. Major : 1 Minor: 5\n",
      "I0000 00:00:1701409895.997980  115714 gl_context.cc:344] GL version: 3.2 (OpenGL ES 3.2 Mesa 23.2.1), renderer: AMD Radeon Graphics (renoir, LLVM 16.0.6, DRM 3.54, 6.5.12-300.fc39.x86_64)\n",
      "I0000 00:00:1701409930.680554  108640 gl_context_egl.cc:85] Successfully initialized EGL. Major : 1 Minor: 5\n",
      "I0000 00:00:1701409930.683090  115821 gl_context.cc:344] GL version: 3.2 (OpenGL ES 3.2 Mesa 23.2.1), renderer: AMD Radeon Graphics (renoir, LLVM 16.0.6, DRM 3.54, 6.5.12-300.fc39.x86_64)\n",
      "I0000 00:00:1701409930.703708  108640 gl_context_egl.cc:85] Successfully initialized EGL. Major : 1 Minor: 5\n",
      "I0000 00:00:1701409930.704688  115840 gl_context.cc:344] GL version: 3.2 (OpenGL ES 3.2 Mesa 23.2.1), renderer: AMD Radeon Graphics (renoir, LLVM 16.0.6, DRM 3.54, 6.5.12-300.fc39.x86_64)\n",
      "W0000 00:00:1701409930.704953  108640 face_landmarker_graph.cc:174] Sets FaceBlendshapesGraph acceleration to xnnpack by default.\n",
      "I0000 00:00:1701409930.722769  108640 gl_context_egl.cc:85] Successfully initialized EGL. Major : 1 Minor: 5\n",
      "I0000 00:00:1701409930.723723  115859 gl_context.cc:344] GL version: 3.2 (OpenGL ES 3.2 Mesa 23.2.1), renderer: AMD Radeon Graphics (renoir, LLVM 16.0.6, DRM 3.54, 6.5.12-300.fc39.x86_64)\n",
      "I0000 00:00:1701409956.581911  108640 gl_context_egl.cc:85] Successfully initialized EGL. Major : 1 Minor: 5\n",
      "I0000 00:00:1701409956.583116  115998 gl_context.cc:344] GL version: 3.2 (OpenGL ES 3.2 Mesa 23.2.1), renderer: AMD Radeon Graphics (renoir, LLVM 16.0.6, DRM 3.54, 6.5.12-300.fc39.x86_64)\n",
      "I0000 00:00:1701409956.602143  108640 gl_context_egl.cc:85] Successfully initialized EGL. Major : 1 Minor: 5\n",
      "I0000 00:00:1701409956.603092  116017 gl_context.cc:344] GL version: 3.2 (OpenGL ES 3.2 Mesa 23.2.1), renderer: AMD Radeon Graphics (renoir, LLVM 16.0.6, DRM 3.54, 6.5.12-300.fc39.x86_64)\n",
      "W0000 00:00:1701409956.603333  108640 face_landmarker_graph.cc:174] Sets FaceBlendshapesGraph acceleration to xnnpack by default.\n",
      "I0000 00:00:1701409956.616870  108640 gl_context_egl.cc:85] Successfully initialized EGL. Major : 1 Minor: 5\n",
      "I0000 00:00:1701409956.617989  116036 gl_context.cc:344] GL version: 3.2 (OpenGL ES 3.2 Mesa 23.2.1), renderer: AMD Radeon Graphics (renoir, LLVM 16.0.6, DRM 3.54, 6.5.12-300.fc39.x86_64)\n"
     ]
    }
   ],
   "source": [
    "cap = cv2.VideoCapture(0)\n",
    "for action in actions:\n",
    "    input()\n",
    "    collectData(action,100,0)\n",
    "    time.sleep(5)\n",
    "    collectData(action,100,100)\n",
    "cap.release()\n",
    "cv2.destroyAllWindows()"
   ]
  },
  {
   "cell_type": "code",
   "execution_count": 119,
   "metadata": {},
   "outputs": [
    {
     "data": {
      "text/plain": [
       "{'control': 0, 'thankyou': 1, 'iloveyou': 2, 'please': 3}"
      ]
     },
     "execution_count": 119,
     "metadata": {},
     "output_type": "execute_result"
    }
   ],
   "source": [
    "label_map = {label: num for num, label in enumerate(actions)}\n",
    "label_map"
   ]
  },
  {
   "cell_type": "code",
   "execution_count": 120,
   "metadata": {},
   "outputs": [
    {
     "data": {
      "text/plain": [
       "((200, 15, 225), (200,))"
      ]
     },
     "execution_count": 120,
     "metadata": {},
     "output_type": "execute_result"
    }
   ],
   "source": [
    "sequences, labels = [], []\n",
    "for action in actions:\n",
    "    for sequence in np.array(os.listdir(os.path.join(DATA_PATH, action))).astype(int):\n",
    "        window = []\n",
    "        for frame_num in range(sequence_length):\n",
    "            res = np.load(os.path.join(DATA_PATH, action, str(\n",
    "                sequence), \"{}.npy\".format(frame_num)))\n",
    "            window.append(res)\n",
    "        sequences.append(window)\n",
    "        labels.append(label_map[action])\n",
    "np.array(sequences).shape, np.array(labels).shape"
   ]
  },
  {
   "cell_type": "code",
   "execution_count": 121,
   "metadata": {},
   "outputs": [
    {
     "data": {
      "text/plain": [
       "((200, 15, 225), (200, 4))"
      ]
     },
     "execution_count": 121,
     "metadata": {},
     "output_type": "execute_result"
    }
   ],
   "source": [
    "X = np.array(sequences)\n",
    "Y = to_categorical(labels).astype(int)\n",
    "X.shape,Y.shape"
   ]
  },
  {
   "cell_type": "code",
   "execution_count": 122,
   "metadata": {},
   "outputs": [],
   "source": [
    "X_train, X_test, Y_train, Y_test = train_test_split(X, Y, test_size=0.1)"
   ]
  },
  {
   "cell_type": "code",
   "execution_count": 123,
   "metadata": {},
   "outputs": [
    {
     "data": {
      "text/plain": [
       "((15, 225), 4)"
      ]
     },
     "execution_count": 123,
     "metadata": {},
     "output_type": "execute_result"
    }
   ],
   "source": [
    "X_train.shape[1:],actions.shape[0]"
   ]
  },
  {
   "cell_type": "code",
   "execution_count": 124,
   "metadata": {},
   "outputs": [],
   "source": [
    "log_dir = os.path.join('logs')\n",
    "tb_callback = TensorBoard(log_dir=log_dir)"
   ]
  },
  {
   "cell_type": "code",
   "execution_count": 125,
   "metadata": {},
   "outputs": [],
   "source": [
    "model = Sequential()\n",
    "model.add(LSTM(64, return_sequences=True,\n",
    "          activation='relu', input_shape=X_train.shape[1:]))\n",
    "model.add(LSTM(128, return_sequences=True, activation='relu'))\n",
    "model.add(LSTM(128, return_sequences=True, activation='relu'))\n",
    "model.add(LSTM(64, return_sequences=False, activation='relu'))\n",
    "model.add(Dense(64, activation='relu'))\n",
    "model.add(Dense(32, activation='relu'))\n",
    "model.add(Dense(actions.shape[0], activation='softmax'))"
   ]
  },
  {
   "cell_type": "code",
   "execution_count": 127,
   "metadata": {},
   "outputs": [],
   "source": [
    "model.compile(optimizer='Adam', loss='categorical_crossentropy',\n",
    "              metrics=['categorical_accuracy'])"
   ]
  },
  {
   "cell_type": "code",
   "execution_count": 128,
   "metadata": {},
   "outputs": [
    {
     "name": "stdout",
     "output_type": "stream",
     "text": [
      "Epoch 1/2000\n",
      "6/6 [==============================] - 8s 27ms/step - loss: 1.3787 - categorical_accuracy: 0.4167\n",
      "Epoch 2/2000\n",
      "6/6 [==============================] - 0s 27ms/step - loss: 1.1944 - categorical_accuracy: 0.4722\n",
      "Epoch 3/2000\n",
      "6/6 [==============================] - 0s 29ms/step - loss: 0.7726 - categorical_accuracy: 0.7000\n",
      "Epoch 4/2000\n",
      "6/6 [==============================] - 0s 31ms/step - loss: 0.6343 - categorical_accuracy: 0.8222\n",
      "Epoch 5/2000\n",
      "6/6 [==============================] - 0s 27ms/step - loss: 0.5382 - categorical_accuracy: 0.8556\n",
      "Epoch 6/2000\n",
      "6/6 [==============================] - 0s 27ms/step - loss: 0.3487 - categorical_accuracy: 0.9056\n",
      "Epoch 7/2000\n",
      "6/6 [==============================] - 0s 27ms/step - loss: 0.4040 - categorical_accuracy: 0.9333\n",
      "Epoch 8/2000\n",
      "6/6 [==============================] - 0s 29ms/step - loss: 0.2493 - categorical_accuracy: 0.9611\n",
      "Epoch 9/2000\n",
      "6/6 [==============================] - 0s 28ms/step - loss: 0.2080 - categorical_accuracy: 0.9444\n",
      "Epoch 10/2000\n",
      "6/6 [==============================] - 0s 27ms/step - loss: 0.0821 - categorical_accuracy: 0.9833\n",
      "Epoch 11/2000\n",
      "6/6 [==============================] - 0s 27ms/step - loss: 0.6244 - categorical_accuracy: 0.9056\n",
      "Epoch 12/2000\n",
      "6/6 [==============================] - 0s 27ms/step - loss: 0.4819 - categorical_accuracy: 0.9000\n",
      "Epoch 13/2000\n",
      "6/6 [==============================] - 0s 27ms/step - loss: 0.2719 - categorical_accuracy: 0.9667\n",
      "Epoch 14/2000\n",
      "6/6 [==============================] - 0s 27ms/step - loss: 0.1749 - categorical_accuracy: 0.9667\n",
      "Epoch 15/2000\n",
      "6/6 [==============================] - 0s 28ms/step - loss: 0.0785 - categorical_accuracy: 0.9833\n",
      "Epoch 16/2000\n",
      "6/6 [==============================] - 0s 27ms/step - loss: 0.1165 - categorical_accuracy: 0.9500\n",
      "Epoch 17/2000\n",
      "6/6 [==============================] - 0s 27ms/step - loss: 0.0939 - categorical_accuracy: 0.9833\n",
      "Epoch 18/2000\n",
      "6/6 [==============================] - 0s 28ms/step - loss: 0.7415 - categorical_accuracy: 0.8722\n",
      "Epoch 19/2000\n",
      "6/6 [==============================] - 0s 29ms/step - loss: 0.3454 - categorical_accuracy: 0.9167\n",
      "Epoch 20/2000\n",
      "6/6 [==============================] - 0s 24ms/step - loss: 0.2623 - categorical_accuracy: 0.9611\n",
      "Epoch 21/2000\n",
      "6/6 [==============================] - 0s 27ms/step - loss: 0.2156 - categorical_accuracy: 0.9889\n",
      "Epoch 22/2000\n",
      "6/6 [==============================] - 0s 29ms/step - loss: 0.0749 - categorical_accuracy: 0.9889\n",
      "Epoch 23/2000\n",
      "6/6 [==============================] - 0s 29ms/step - loss: 0.0633 - categorical_accuracy: 0.9833\n",
      "Epoch 24/2000\n"
     ]
    },
    {
     "ename": "KeyboardInterrupt",
     "evalue": "",
     "output_type": "error",
     "traceback": [
      "\u001b[0;31m---------------------------------------------------------------------------\u001b[0m",
      "\u001b[0;31mKeyboardInterrupt\u001b[0m                         Traceback (most recent call last)",
      "\u001b[1;32m/home/xotembotz/personalProjects/schoolSignLanguageDetection/try1.ipynb Cell 25\u001b[0m line \u001b[0;36m1\n\u001b[0;32m----> <a href='vscode-notebook-cell:/home/xotembotz/personalProjects/schoolSignLanguageDetection/try1.ipynb#X31sZmlsZQ%3D%3D?line=0'>1</a>\u001b[0m model\u001b[39m.\u001b[39;49mfit(X_train, Y_train, epochs\u001b[39m=\u001b[39;49m\u001b[39m2000\u001b[39;49m, callbacks\u001b[39m=\u001b[39;49m[tb_callback])\n",
      "File \u001b[0;32m~/personalProjects/schoolSignLanguageDetection/env/lib64/python3.11/site-packages/keras/src/utils/traceback_utils.py:65\u001b[0m, in \u001b[0;36mfilter_traceback.<locals>.error_handler\u001b[0;34m(*args, **kwargs)\u001b[0m\n\u001b[1;32m     63\u001b[0m filtered_tb \u001b[39m=\u001b[39m \u001b[39mNone\u001b[39;00m\n\u001b[1;32m     64\u001b[0m \u001b[39mtry\u001b[39;00m:\n\u001b[0;32m---> 65\u001b[0m     \u001b[39mreturn\u001b[39;00m fn(\u001b[39m*\u001b[39;49margs, \u001b[39m*\u001b[39;49m\u001b[39m*\u001b[39;49mkwargs)\n\u001b[1;32m     66\u001b[0m \u001b[39mexcept\u001b[39;00m \u001b[39mException\u001b[39;00m \u001b[39mas\u001b[39;00m e:\n\u001b[1;32m     67\u001b[0m     filtered_tb \u001b[39m=\u001b[39m _process_traceback_frames(e\u001b[39m.\u001b[39m__traceback__)\n",
      "File \u001b[0;32m~/personalProjects/schoolSignLanguageDetection/env/lib64/python3.11/site-packages/keras/src/engine/training.py:1807\u001b[0m, in \u001b[0;36mModel.fit\u001b[0;34m(self, x, y, batch_size, epochs, verbose, callbacks, validation_split, validation_data, shuffle, class_weight, sample_weight, initial_epoch, steps_per_epoch, validation_steps, validation_batch_size, validation_freq, max_queue_size, workers, use_multiprocessing)\u001b[0m\n\u001b[1;32m   1799\u001b[0m \u001b[39mwith\u001b[39;00m tf\u001b[39m.\u001b[39mprofiler\u001b[39m.\u001b[39mexperimental\u001b[39m.\u001b[39mTrace(\n\u001b[1;32m   1800\u001b[0m     \u001b[39m\"\u001b[39m\u001b[39mtrain\u001b[39m\u001b[39m\"\u001b[39m,\n\u001b[1;32m   1801\u001b[0m     epoch_num\u001b[39m=\u001b[39mepoch,\n\u001b[0;32m   (...)\u001b[0m\n\u001b[1;32m   1804\u001b[0m     _r\u001b[39m=\u001b[39m\u001b[39m1\u001b[39m,\n\u001b[1;32m   1805\u001b[0m ):\n\u001b[1;32m   1806\u001b[0m     callbacks\u001b[39m.\u001b[39mon_train_batch_begin(step)\n\u001b[0;32m-> 1807\u001b[0m     tmp_logs \u001b[39m=\u001b[39m \u001b[39mself\u001b[39;49m\u001b[39m.\u001b[39;49mtrain_function(iterator)\n\u001b[1;32m   1808\u001b[0m     \u001b[39mif\u001b[39;00m data_handler\u001b[39m.\u001b[39mshould_sync:\n\u001b[1;32m   1809\u001b[0m         context\u001b[39m.\u001b[39masync_wait()\n",
      "File \u001b[0;32m~/personalProjects/schoolSignLanguageDetection/env/lib64/python3.11/site-packages/tensorflow/python/util/traceback_utils.py:150\u001b[0m, in \u001b[0;36mfilter_traceback.<locals>.error_handler\u001b[0;34m(*args, **kwargs)\u001b[0m\n\u001b[1;32m    148\u001b[0m filtered_tb \u001b[39m=\u001b[39m \u001b[39mNone\u001b[39;00m\n\u001b[1;32m    149\u001b[0m \u001b[39mtry\u001b[39;00m:\n\u001b[0;32m--> 150\u001b[0m   \u001b[39mreturn\u001b[39;00m fn(\u001b[39m*\u001b[39;49margs, \u001b[39m*\u001b[39;49m\u001b[39m*\u001b[39;49mkwargs)\n\u001b[1;32m    151\u001b[0m \u001b[39mexcept\u001b[39;00m \u001b[39mException\u001b[39;00m \u001b[39mas\u001b[39;00m e:\n\u001b[1;32m    152\u001b[0m   filtered_tb \u001b[39m=\u001b[39m _process_traceback_frames(e\u001b[39m.\u001b[39m__traceback__)\n",
      "File \u001b[0;32m~/personalProjects/schoolSignLanguageDetection/env/lib64/python3.11/site-packages/tensorflow/python/eager/polymorphic_function/polymorphic_function.py:832\u001b[0m, in \u001b[0;36mFunction.__call__\u001b[0;34m(self, *args, **kwds)\u001b[0m\n\u001b[1;32m    829\u001b[0m compiler \u001b[39m=\u001b[39m \u001b[39m\"\u001b[39m\u001b[39mxla\u001b[39m\u001b[39m\"\u001b[39m \u001b[39mif\u001b[39;00m \u001b[39mself\u001b[39m\u001b[39m.\u001b[39m_jit_compile \u001b[39melse\u001b[39;00m \u001b[39m\"\u001b[39m\u001b[39mnonXla\u001b[39m\u001b[39m\"\u001b[39m\n\u001b[1;32m    831\u001b[0m \u001b[39mwith\u001b[39;00m OptionalXlaContext(\u001b[39mself\u001b[39m\u001b[39m.\u001b[39m_jit_compile):\n\u001b[0;32m--> 832\u001b[0m   result \u001b[39m=\u001b[39m \u001b[39mself\u001b[39;49m\u001b[39m.\u001b[39;49m_call(\u001b[39m*\u001b[39;49margs, \u001b[39m*\u001b[39;49m\u001b[39m*\u001b[39;49mkwds)\n\u001b[1;32m    834\u001b[0m new_tracing_count \u001b[39m=\u001b[39m \u001b[39mself\u001b[39m\u001b[39m.\u001b[39mexperimental_get_tracing_count()\n\u001b[1;32m    835\u001b[0m without_tracing \u001b[39m=\u001b[39m (tracing_count \u001b[39m==\u001b[39m new_tracing_count)\n",
      "File \u001b[0;32m~/personalProjects/schoolSignLanguageDetection/env/lib64/python3.11/site-packages/tensorflow/python/eager/polymorphic_function/polymorphic_function.py:868\u001b[0m, in \u001b[0;36mFunction._call\u001b[0;34m(self, *args, **kwds)\u001b[0m\n\u001b[1;32m    865\u001b[0m   \u001b[39mself\u001b[39m\u001b[39m.\u001b[39m_lock\u001b[39m.\u001b[39mrelease()\n\u001b[1;32m    866\u001b[0m   \u001b[39m# In this case we have created variables on the first call, so we run the\u001b[39;00m\n\u001b[1;32m    867\u001b[0m   \u001b[39m# defunned version which is guaranteed to never create variables.\u001b[39;00m\n\u001b[0;32m--> 868\u001b[0m   \u001b[39mreturn\u001b[39;00m tracing_compilation\u001b[39m.\u001b[39;49mcall_function(\n\u001b[1;32m    869\u001b[0m       args, kwds, \u001b[39mself\u001b[39;49m\u001b[39m.\u001b[39;49m_no_variable_creation_config\n\u001b[1;32m    870\u001b[0m   )\n\u001b[1;32m    871\u001b[0m \u001b[39melif\u001b[39;00m \u001b[39mself\u001b[39m\u001b[39m.\u001b[39m_variable_creation_config \u001b[39mis\u001b[39;00m \u001b[39mnot\u001b[39;00m \u001b[39mNone\u001b[39;00m:\n\u001b[1;32m    872\u001b[0m   \u001b[39m# Release the lock early so that multiple threads can perform the call\u001b[39;00m\n\u001b[1;32m    873\u001b[0m   \u001b[39m# in parallel.\u001b[39;00m\n\u001b[1;32m    874\u001b[0m   \u001b[39mself\u001b[39m\u001b[39m.\u001b[39m_lock\u001b[39m.\u001b[39mrelease()\n",
      "File \u001b[0;32m~/personalProjects/schoolSignLanguageDetection/env/lib64/python3.11/site-packages/tensorflow/python/eager/polymorphic_function/tracing_compilation.py:139\u001b[0m, in \u001b[0;36mcall_function\u001b[0;34m(args, kwargs, tracing_options)\u001b[0m\n\u001b[1;32m    137\u001b[0m bound_args \u001b[39m=\u001b[39m function\u001b[39m.\u001b[39mfunction_type\u001b[39m.\u001b[39mbind(\u001b[39m*\u001b[39margs, \u001b[39m*\u001b[39m\u001b[39m*\u001b[39mkwargs)\n\u001b[1;32m    138\u001b[0m flat_inputs \u001b[39m=\u001b[39m function\u001b[39m.\u001b[39mfunction_type\u001b[39m.\u001b[39munpack_inputs(bound_args)\n\u001b[0;32m--> 139\u001b[0m \u001b[39mreturn\u001b[39;00m function\u001b[39m.\u001b[39;49m_call_flat(  \u001b[39m# pylint: disable=protected-access\u001b[39;49;00m\n\u001b[1;32m    140\u001b[0m     flat_inputs, captured_inputs\u001b[39m=\u001b[39;49mfunction\u001b[39m.\u001b[39;49mcaptured_inputs\n\u001b[1;32m    141\u001b[0m )\n",
      "File \u001b[0;32m~/personalProjects/schoolSignLanguageDetection/env/lib64/python3.11/site-packages/tensorflow/python/eager/polymorphic_function/concrete_function.py:1323\u001b[0m, in \u001b[0;36mConcreteFunction._call_flat\u001b[0;34m(self, tensor_inputs, captured_inputs)\u001b[0m\n\u001b[1;32m   1319\u001b[0m possible_gradient_type \u001b[39m=\u001b[39m gradients_util\u001b[39m.\u001b[39mPossibleTapeGradientTypes(args)\n\u001b[1;32m   1320\u001b[0m \u001b[39mif\u001b[39;00m (possible_gradient_type \u001b[39m==\u001b[39m gradients_util\u001b[39m.\u001b[39mPOSSIBLE_GRADIENT_TYPES_NONE\n\u001b[1;32m   1321\u001b[0m     \u001b[39mand\u001b[39;00m executing_eagerly):\n\u001b[1;32m   1322\u001b[0m   \u001b[39m# No tape is watching; skip to running the function.\u001b[39;00m\n\u001b[0;32m-> 1323\u001b[0m   \u001b[39mreturn\u001b[39;00m \u001b[39mself\u001b[39;49m\u001b[39m.\u001b[39;49m_inference_function\u001b[39m.\u001b[39;49mcall_preflattened(args)\n\u001b[1;32m   1324\u001b[0m forward_backward \u001b[39m=\u001b[39m \u001b[39mself\u001b[39m\u001b[39m.\u001b[39m_select_forward_and_backward_functions(\n\u001b[1;32m   1325\u001b[0m     args,\n\u001b[1;32m   1326\u001b[0m     possible_gradient_type,\n\u001b[1;32m   1327\u001b[0m     executing_eagerly)\n\u001b[1;32m   1328\u001b[0m forward_function, args_with_tangents \u001b[39m=\u001b[39m forward_backward\u001b[39m.\u001b[39mforward()\n",
      "File \u001b[0;32m~/personalProjects/schoolSignLanguageDetection/env/lib64/python3.11/site-packages/tensorflow/python/eager/polymorphic_function/atomic_function.py:216\u001b[0m, in \u001b[0;36mAtomicFunction.call_preflattened\u001b[0;34m(self, args)\u001b[0m\n\u001b[1;32m    214\u001b[0m \u001b[39mdef\u001b[39;00m \u001b[39mcall_preflattened\u001b[39m(\u001b[39mself\u001b[39m, args: Sequence[core\u001b[39m.\u001b[39mTensor]) \u001b[39m-\u001b[39m\u001b[39m>\u001b[39m Any:\n\u001b[1;32m    215\u001b[0m \u001b[39m  \u001b[39m\u001b[39m\"\"\"Calls with flattened tensor inputs and returns the structured output.\"\"\"\u001b[39;00m\n\u001b[0;32m--> 216\u001b[0m   flat_outputs \u001b[39m=\u001b[39m \u001b[39mself\u001b[39;49m\u001b[39m.\u001b[39;49mcall_flat(\u001b[39m*\u001b[39;49margs)\n\u001b[1;32m    217\u001b[0m   \u001b[39mreturn\u001b[39;00m \u001b[39mself\u001b[39m\u001b[39m.\u001b[39mfunction_type\u001b[39m.\u001b[39mpack_output(flat_outputs)\n",
      "File \u001b[0;32m~/personalProjects/schoolSignLanguageDetection/env/lib64/python3.11/site-packages/tensorflow/python/eager/polymorphic_function/atomic_function.py:251\u001b[0m, in \u001b[0;36mAtomicFunction.call_flat\u001b[0;34m(self, *args)\u001b[0m\n\u001b[1;32m    249\u001b[0m \u001b[39mwith\u001b[39;00m record\u001b[39m.\u001b[39mstop_recording():\n\u001b[1;32m    250\u001b[0m   \u001b[39mif\u001b[39;00m \u001b[39mself\u001b[39m\u001b[39m.\u001b[39m_bound_context\u001b[39m.\u001b[39mexecuting_eagerly():\n\u001b[0;32m--> 251\u001b[0m     outputs \u001b[39m=\u001b[39m \u001b[39mself\u001b[39;49m\u001b[39m.\u001b[39;49m_bound_context\u001b[39m.\u001b[39;49mcall_function(\n\u001b[1;32m    252\u001b[0m         \u001b[39mself\u001b[39;49m\u001b[39m.\u001b[39;49mname,\n\u001b[1;32m    253\u001b[0m         \u001b[39mlist\u001b[39;49m(args),\n\u001b[1;32m    254\u001b[0m         \u001b[39mlen\u001b[39;49m(\u001b[39mself\u001b[39;49m\u001b[39m.\u001b[39;49mfunction_type\u001b[39m.\u001b[39;49mflat_outputs),\n\u001b[1;32m    255\u001b[0m     )\n\u001b[1;32m    256\u001b[0m   \u001b[39melse\u001b[39;00m:\n\u001b[1;32m    257\u001b[0m     outputs \u001b[39m=\u001b[39m make_call_op_in_graph(\n\u001b[1;32m    258\u001b[0m         \u001b[39mself\u001b[39m,\n\u001b[1;32m    259\u001b[0m         \u001b[39mlist\u001b[39m(args),\n\u001b[1;32m    260\u001b[0m         \u001b[39mself\u001b[39m\u001b[39m.\u001b[39m_bound_context\u001b[39m.\u001b[39mfunction_call_options\u001b[39m.\u001b[39mas_attrs(),\n\u001b[1;32m    261\u001b[0m     )\n",
      "File \u001b[0;32m~/personalProjects/schoolSignLanguageDetection/env/lib64/python3.11/site-packages/tensorflow/python/eager/context.py:1486\u001b[0m, in \u001b[0;36mContext.call_function\u001b[0;34m(self, name, tensor_inputs, num_outputs)\u001b[0m\n\u001b[1;32m   1484\u001b[0m cancellation_context \u001b[39m=\u001b[39m cancellation\u001b[39m.\u001b[39mcontext()\n\u001b[1;32m   1485\u001b[0m \u001b[39mif\u001b[39;00m cancellation_context \u001b[39mis\u001b[39;00m \u001b[39mNone\u001b[39;00m:\n\u001b[0;32m-> 1486\u001b[0m   outputs \u001b[39m=\u001b[39m execute\u001b[39m.\u001b[39;49mexecute(\n\u001b[1;32m   1487\u001b[0m       name\u001b[39m.\u001b[39;49mdecode(\u001b[39m\"\u001b[39;49m\u001b[39mutf-8\u001b[39;49m\u001b[39m\"\u001b[39;49m),\n\u001b[1;32m   1488\u001b[0m       num_outputs\u001b[39m=\u001b[39;49mnum_outputs,\n\u001b[1;32m   1489\u001b[0m       inputs\u001b[39m=\u001b[39;49mtensor_inputs,\n\u001b[1;32m   1490\u001b[0m       attrs\u001b[39m=\u001b[39;49mattrs,\n\u001b[1;32m   1491\u001b[0m       ctx\u001b[39m=\u001b[39;49m\u001b[39mself\u001b[39;49m,\n\u001b[1;32m   1492\u001b[0m   )\n\u001b[1;32m   1493\u001b[0m \u001b[39melse\u001b[39;00m:\n\u001b[1;32m   1494\u001b[0m   outputs \u001b[39m=\u001b[39m execute\u001b[39m.\u001b[39mexecute_with_cancellation(\n\u001b[1;32m   1495\u001b[0m       name\u001b[39m.\u001b[39mdecode(\u001b[39m\"\u001b[39m\u001b[39mutf-8\u001b[39m\u001b[39m\"\u001b[39m),\n\u001b[1;32m   1496\u001b[0m       num_outputs\u001b[39m=\u001b[39mnum_outputs,\n\u001b[0;32m   (...)\u001b[0m\n\u001b[1;32m   1500\u001b[0m       cancellation_manager\u001b[39m=\u001b[39mcancellation_context,\n\u001b[1;32m   1501\u001b[0m   )\n",
      "File \u001b[0;32m~/personalProjects/schoolSignLanguageDetection/env/lib64/python3.11/site-packages/tensorflow/python/eager/execute.py:53\u001b[0m, in \u001b[0;36mquick_execute\u001b[0;34m(op_name, num_outputs, inputs, attrs, ctx, name)\u001b[0m\n\u001b[1;32m     51\u001b[0m \u001b[39mtry\u001b[39;00m:\n\u001b[1;32m     52\u001b[0m   ctx\u001b[39m.\u001b[39mensure_initialized()\n\u001b[0;32m---> 53\u001b[0m   tensors \u001b[39m=\u001b[39m pywrap_tfe\u001b[39m.\u001b[39;49mTFE_Py_Execute(ctx\u001b[39m.\u001b[39;49m_handle, device_name, op_name,\n\u001b[1;32m     54\u001b[0m                                       inputs, attrs, num_outputs)\n\u001b[1;32m     55\u001b[0m \u001b[39mexcept\u001b[39;00m core\u001b[39m.\u001b[39m_NotOkStatusException \u001b[39mas\u001b[39;00m e:\n\u001b[1;32m     56\u001b[0m   \u001b[39mif\u001b[39;00m name \u001b[39mis\u001b[39;00m \u001b[39mnot\u001b[39;00m \u001b[39mNone\u001b[39;00m:\n",
      "\u001b[0;31mKeyboardInterrupt\u001b[0m: "
     ]
    }
   ],
   "source": [
    "model.fit(X_train, Y_train, epochs=2000, callbacks=[tb_callback])"
   ]
  },
  {
   "cell_type": "code",
   "execution_count": 129,
   "metadata": {},
   "outputs": [
    {
     "name": "stdout",
     "output_type": "stream",
     "text": [
      "1/1 [==============================] - 1s 785ms/step\n"
     ]
    },
    {
     "data": {
      "text/plain": [
       "('iloveyou', 'iloveyou')"
      ]
     },
     "execution_count": 129,
     "metadata": {},
     "output_type": "execute_result"
    }
   ],
   "source": [
    "res = model.predict(X_test)\n",
    "actions[np.argmax(res[4])], actions[np.argmax(Y_test[4])]"
   ]
  },
  {
   "cell_type": "code",
   "execution_count": 130,
   "metadata": {},
   "outputs": [
    {
     "name": "stdout",
     "output_type": "stream",
     "text": [
      "1/1 [==============================] - 0s 27ms/step\n"
     ]
    },
    {
     "data": {
      "text/plain": [
       "array([[[17,  0],\n",
       "        [ 0,  3]],\n",
       "\n",
       "       [[13,  0],\n",
       "        [ 1,  6]],\n",
       "\n",
       "       [[13,  1],\n",
       "        [ 0,  6]],\n",
       "\n",
       "       [[16,  0],\n",
       "        [ 0,  4]]])"
      ]
     },
     "execution_count": 130,
     "metadata": {},
     "output_type": "execute_result"
    }
   ],
   "source": [
    "yhat = model.predict(X_test)\n",
    "ytrue = np.argmax(Y_test, axis=1).tolist()\n",
    "yhat = np.argmax(yhat, axis=1).tolist()\n",
    "multilabel_confusion_matrix(ytrue, yhat)"
   ]
  },
  {
   "cell_type": "code",
   "execution_count": 131,
   "metadata": {},
   "outputs": [
    {
     "data": {
      "text/plain": [
       "0.95"
      ]
     },
     "execution_count": 131,
     "metadata": {},
     "output_type": "execute_result"
    }
   ],
   "source": [
    "accuracy_score(ytrue, yhat)"
   ]
  },
  {
   "cell_type": "code",
   "execution_count": 53,
   "metadata": {},
   "outputs": [
    {
     "data": {
      "text/plain": [
       "array([[[ 0.61671913,  0.44044334, -0.6442681 , ...,  0.        ,\n",
       "          0.        ,  0.        ],\n",
       "        [ 0.61242396,  0.44335321, -0.55908298, ...,  0.        ,\n",
       "          0.        ,  0.        ],\n",
       "        [ 0.61338311,  0.44591859, -0.5828802 , ...,  0.        ,\n",
       "          0.        ,  0.        ],\n",
       "        ...,\n",
       "        [ 0.61112583,  0.42927632, -0.32872173, ...,  0.51288551,\n",
       "          0.56761646, -0.03853079],\n",
       "        [ 0.61660713,  0.42383578, -0.48927504, ...,  0.49429321,\n",
       "          0.57958066, -0.01583199],\n",
       "        [ 0.62080556,  0.42483413, -0.71497381, ...,  0.48863906,\n",
       "          0.59082407, -0.07455964]]])"
      ]
     },
     "execution_count": 53,
     "metadata": {},
     "output_type": "execute_result"
    }
   ],
   "source": [
    "np.expand_dims(X_test[0], axis=0)"
   ]
  },
  {
   "cell_type": "code",
   "execution_count": 54,
   "metadata": {},
   "outputs": [
    {
     "data": {
      "text/plain": [
       "((15, 225), (1659,))"
      ]
     },
     "execution_count": 54,
     "metadata": {},
     "output_type": "execute_result"
    }
   ],
   "source": [
    "X_test[0].shape,concatArray.shape"
   ]
  },
  {
   "cell_type": "code",
   "execution_count": 55,
   "metadata": {},
   "outputs": [
    {
     "name": "stdout",
     "output_type": "stream",
     "text": [
      "1/1 [==============================] - 0s 20ms/step\n"
     ]
    },
    {
     "data": {
      "text/plain": [
       "array([[8.4433169e-26, 9.9999994e-01, 2.3078373e-12, 1.7069017e-14],\n",
       "       [9.9999994e-01, 2.1851581e-12, 1.3337194e-11, 5.1818697e-12],\n",
       "       [1.6653500e-17, 5.7626761e-11, 9.9999994e-01, 1.6637562e-17],\n",
       "       [9.5152330e-10, 3.8189318e-09, 5.6610895e-14, 9.9999994e-01],\n",
       "       [5.8765913e-15, 4.3612984e-09, 9.9999994e-01, 1.8473335e-14],\n",
       "       [9.9999994e-01, 4.4894303e-08, 2.4756556e-08, 1.2914426e-08],\n",
       "       [4.1091940e-15, 9.9999994e-01, 1.9548370e-08, 5.8777673e-08],\n",
       "       [7.8303637e-17, 9.9734332e-11, 9.9999994e-01, 4.3736761e-17],\n",
       "       [3.5306847e-26, 9.9999994e-01, 2.2525452e-12, 4.7400214e-15],\n",
       "       [6.9825840e-10, 4.1063059e-10, 1.0505851e-14, 9.9999994e-01],\n",
       "       [3.8171383e-10, 5.8445926e-10, 6.8976637e-15, 9.9999994e-01],\n",
       "       [2.9709948e-09, 2.8704417e-08, 3.7814939e-13, 9.9999994e-01],\n",
       "       [6.2568323e-10, 1.3436660e-09, 2.0010854e-14, 9.9999994e-01],\n",
       "       [4.3836480e-17, 2.3079982e-10, 9.9999994e-01, 1.0027421e-16],\n",
       "       [7.4319982e-22, 9.9999994e-01, 9.4378727e-10, 6.1149653e-12],\n",
       "       [3.3015682e-10, 1.8902756e-11, 1.4691240e-15, 9.9999994e-01],\n",
       "       [1.0000000e+00, 1.1715048e-11, 1.1969718e-10, 4.9876374e-11],\n",
       "       [1.0000000e+00, 5.9594750e-08, 3.1857976e-08, 1.6332654e-08],\n",
       "       [1.0000000e+00, 3.1548385e-11, 8.6105366e-11, 2.5824246e-11],\n",
       "       [3.5999671e-17, 6.1130323e-11, 1.0000000e+00, 1.3003150e-17]],\n",
       "      dtype=float32)"
      ]
     },
     "execution_count": 55,
     "metadata": {},
     "output_type": "execute_result"
    }
   ],
   "source": [
    "model.predict(X_test)"
   ]
  },
  {
   "cell_type": "code",
   "execution_count": 108,
   "metadata": {},
   "outputs": [],
   "source": [
    "colors = [(245, 117, 16), (117, 245, 16), (16, 117, 245)]\n",
    "\n",
    "\n",
    "def prob_viz(res, actions, input_frame, colors):\n",
    "    output_frame = input_frame.copy()\n",
    "    for num, prob in enumerate(res):\n",
    "        cv2.rectangle(output_frame, (0, 60+num*40),\n",
    "                      (int(prob*100), 90+num*40), colors[num], -1)\n",
    "        cv2.putText(output_frame, actions[num], (0, 85+num*40),\n",
    "                    cv2.FONT_HERSHEY_SIMPLEX, 1, (255, 255, 255), 2, cv2.LINE_AA)\n",
    "\n",
    "    return output_frame"
   ]
  },
  {
   "cell_type": "code",
   "execution_count": 132,
   "metadata": {},
   "outputs": [
    {
     "name": "stderr",
     "output_type": "stream",
     "text": [
      "I0000 00:00:1701399529.015696    4809 gl_context_egl.cc:85] Successfully initialized EGL. Major : 1 Minor: 5\n",
      "I0000 00:00:1701399529.017117   84330 gl_context.cc:344] GL version: 3.2 (OpenGL ES 3.2 Mesa 23.2.1), renderer: AMD Radeon Graphics (renoir, LLVM 16.0.6, DRM 3.54, 6.5.12-300.fc39.x86_64)\n",
      "I0000 00:00:1701399529.037522    4809 gl_context_egl.cc:85] Successfully initialized EGL. Major : 1 Minor: 5\n",
      "I0000 00:00:1701399529.038567   84349 gl_context.cc:344] GL version: 3.2 (OpenGL ES 3.2 Mesa 23.2.1), renderer: AMD Radeon Graphics (renoir, LLVM 16.0.6, DRM 3.54, 6.5.12-300.fc39.x86_64)\n",
      "W0000 00:00:1701399529.038881    4809 face_landmarker_graph.cc:174] Sets FaceBlendshapesGraph acceleration to xnnpack by default.\n",
      "I0000 00:00:1701399529.055954    4809 gl_context_egl.cc:85] Successfully initialized EGL. Major : 1 Minor: 5\n",
      "I0000 00:00:1701399529.056923   84368 gl_context.cc:344] GL version: 3.2 (OpenGL ES 3.2 Mesa 23.2.1), renderer: AMD Radeon Graphics (renoir, LLVM 16.0.6, DRM 3.54, 6.5.12-300.fc39.x86_64)\n"
     ]
    },
    {
     "name": "stdout",
     "output_type": "stream",
     "text": [
      "1/1 [==============================] - 0s 19ms/step\n",
      "1/1 [==============================] - 0s 19ms/step\n",
      "1/1 [==============================] - 0s 19ms/step\n",
      "1/1 [==============================] - 0s 16ms/step\n",
      "1/1 [==============================] - 0s 20ms/step\n",
      "1/1 [==============================] - 0s 19ms/step\n",
      "1/1 [==============================] - 0s 23ms/step\n",
      "1/1 [==============================] - 0s 19ms/step\n",
      "1/1 [==============================] - 0s 19ms/step\n",
      "1/1 [==============================] - 0s 23ms/step\n",
      "1/1 [==============================] - 0s 18ms/step\n",
      "1/1 [==============================] - 0s 18ms/step\n",
      "1/1 [==============================] - 0s 21ms/step\n",
      "1/1 [==============================] - 0s 24ms/step\n",
      "1/1 [==============================] - 0s 18ms/step\n",
      "1/1 [==============================] - 0s 19ms/step\n",
      "1/1 [==============================] - 0s 24ms/step\n",
      "1/1 [==============================] - 0s 19ms/step\n",
      "1/1 [==============================] - 0s 24ms/step\n",
      "1/1 [==============================] - 0s 26ms/step\n",
      "1/1 [==============================] - 0s 22ms/step\n",
      "1/1 [==============================] - 0s 25ms/step\n",
      "1/1 [==============================] - 0s 19ms/step\n",
      "1/1 [==============================] - 0s 22ms/step\n",
      "1/1 [==============================] - 0s 25ms/step\n",
      "1/1 [==============================] - 0s 19ms/step\n",
      "1/1 [==============================] - 0s 19ms/step\n",
      "1/1 [==============================] - 0s 19ms/step\n",
      "1/1 [==============================] - 0s 19ms/step\n",
      "1/1 [==============================] - 0s 24ms/step\n",
      "1/1 [==============================] - 0s 19ms/step\n",
      "1/1 [==============================] - 0s 20ms/step\n",
      "1/1 [==============================] - 0s 19ms/step\n",
      "1/1 [==============================] - 0s 19ms/step\n",
      "1/1 [==============================] - 0s 19ms/step\n",
      "1/1 [==============================] - 0s 18ms/step\n",
      "1/1 [==============================] - 0s 18ms/step\n",
      "1/1 [==============================] - 0s 18ms/step\n",
      "1/1 [==============================] - 0s 18ms/step\n",
      "1/1 [==============================] - 0s 23ms/step\n",
      "1/1 [==============================] - 0s 19ms/step\n",
      "1/1 [==============================] - 0s 18ms/step\n",
      "1/1 [==============================] - 0s 21ms/step\n",
      "1/1 [==============================] - 0s 19ms/step\n",
      "1/1 [==============================] - 0s 18ms/step\n",
      "1/1 [==============================] - 0s 21ms/step\n",
      "1/1 [==============================] - 0s 19ms/step\n",
      "1/1 [==============================] - 0s 19ms/step\n",
      "1/1 [==============================] - 0s 20ms/step\n",
      "1/1 [==============================] - 0s 18ms/step\n",
      "1/1 [==============================] - 0s 19ms/step\n",
      "1/1 [==============================] - 0s 19ms/step\n",
      "1/1 [==============================] - 0s 18ms/step\n",
      "1/1 [==============================] - 0s 19ms/step\n",
      "1/1 [==============================] - 0s 24ms/step\n",
      "1/1 [==============================] - 0s 19ms/step\n",
      "1/1 [==============================] - 0s 19ms/step\n",
      "1/1 [==============================] - 0s 19ms/step\n",
      "1/1 [==============================] - 0s 24ms/step\n",
      "1/1 [==============================] - 0s 18ms/step\n",
      "1/1 [==============================] - 0s 18ms/step\n",
      "1/1 [==============================] - 0s 19ms/step\n",
      "1/1 [==============================] - 0s 19ms/step\n",
      "1/1 [==============================] - 0s 19ms/step\n",
      "1/1 [==============================] - 0s 19ms/step\n",
      "1/1 [==============================] - 0s 19ms/step\n",
      "1/1 [==============================] - 0s 18ms/step\n",
      "1/1 [==============================] - 0s 24ms/step\n",
      "1/1 [==============================] - 0s 13ms/step\n",
      "1/1 [==============================] - 0s 19ms/step\n",
      "1/1 [==============================] - 0s 18ms/step\n",
      "1/1 [==============================] - 0s 25ms/step\n",
      "1/1 [==============================] - 0s 19ms/step\n",
      "1/1 [==============================] - 0s 24ms/step\n",
      "1/1 [==============================] - 0s 19ms/step\n",
      "1/1 [==============================] - 0s 24ms/step\n",
      "1/1 [==============================] - 0s 24ms/step\n",
      "1/1 [==============================] - 0s 22ms/step\n",
      "1/1 [==============================] - 0s 18ms/step\n",
      "1/1 [==============================] - 0s 18ms/step\n",
      "1/1 [==============================] - 0s 18ms/step\n",
      "1/1 [==============================] - 0s 22ms/step\n",
      "1/1 [==============================] - 0s 20ms/step\n",
      "1/1 [==============================] - 0s 26ms/step\n",
      "1/1 [==============================] - 0s 24ms/step\n",
      "1/1 [==============================] - 0s 24ms/step\n",
      "1/1 [==============================] - 0s 20ms/step\n",
      "1/1 [==============================] - 0s 23ms/step\n"
     ]
    }
   ],
   "source": [
    "try:\n",
    "    # 1. New detection variables\n",
    "    sequence = []\n",
    "    sentence = []\n",
    "    predictions = []\n",
    "    threshold = 0.5\n",
    "    predict= predictF = \"Not init\"\n",
    "    cap = cv2.VideoCapture(0)\n",
    "    prev_frame_time = 0\n",
    "    new_frame_time = 0\n",
    "    startTime = time.time()\n",
    "    handLandmarker, faceLandmarker, poseLandmarker = initModels()\n",
    "    while cap.isOpened():\n",
    "        new_frame_time = time.time()\n",
    "\n",
    "        ret, frame = cap.read()\n",
    "\n",
    "        mp_image = mp.Image(image_format=mp.ImageFormat.SRGB,\n",
    "                            data=cv2.cvtColor(frame, cv2.COLOR_BGR2RGB))\n",
    "\n",
    "        hand_landmarker_result = handLandmarker.detect_for_video(\n",
    "            mp_image, int((time.time()-startTime)*1000))\n",
    "        pose_landmarket_result = poseLandmarker.detect_for_video(\n",
    "            mp_image, int((time.time()-startTime)*1000))\n",
    "\n",
    "        image = cv2.cvtColor(draw_landmarks_on_image(\n",
    "            mp_image.numpy_view(), pose_landmarket_result, hand_landmarker_result), cv2.COLOR_RGB2BGR)\n",
    "\n",
    "        # pprint(hand_landmarker_result.handedness)\n",
    "        concatArray=save_data( pose_landmarket_result,\n",
    "                hand_landmarker_result, npReturn=True)\n",
    "        sequence.append(concatArray)\n",
    "        \n",
    "        if len(sequence)>15:\n",
    "            predict = model.predict(np.expand_dims(sequence[-15:], axis=0))\n",
    "            predictF=actions[np.argmax(predict)]\n",
    "            cv2.putText(image, f\"{(predict[0][0])}\", (15, 410),\n",
    "                        cv2.FONT_HERSHEY_PLAIN, 2, (255, 255, 255), 3)\n",
    "            cv2.putText(image, f\"{predict[0][1]}\", (15, 440),\n",
    "                        cv2.FONT_HERSHEY_PLAIN, 2, (255, 255, 255), 3)\n",
    "            cv2.putText(image, f\"{predict[0][2]}\", (15, 470),\n",
    "                        cv2.FONT_HERSHEY_PLAIN, 2, (255, 255, 255), 3)\n",
    "\n",
    "        \n",
    "\n",
    "        fps = 1/(new_frame_time-prev_frame_time)\n",
    "        prev_frame_time = new_frame_time\n",
    "        # cv2.putText(image, f\"{fps:1f}\", (15, 50),\n",
    "        #             cv2.FONT_HERSHEY_PLAIN, 2, (255, 255, 255), 3)\n",
    "        cv2.putText(image, f\"{predictF}\", (15, 50),\n",
    "                    cv2.FONT_HERSHEY_PLAIN, 2, (255, 255, 255), 3)\n",
    "        cv2.imshow('OpenCV Feed', image)\n",
    "\n",
    "        if cv2.waitKey(10) & 0xFF == ord('q'):\n",
    "            break\n",
    "    cap.release()\n",
    "    cv2.destroyAllWindows()\n",
    "except Exception as e:\n",
    "    cap.release()\n",
    "    cv2.destroyAllWindows()\n",
    "    raise e"
   ]
  },
  {
   "cell_type": "code",
   "execution_count": 133,
   "metadata": {},
   "outputs": [
    {
     "name": "stdout",
     "output_type": "stream",
     "text": [
      "INFO:tensorflow:Assets written to: model2-please/assets\n"
     ]
    },
    {
     "name": "stderr",
     "output_type": "stream",
     "text": [
      "INFO:tensorflow:Assets written to: model2-please/assets\n"
     ]
    }
   ],
   "source": [
    "model.save(\"model2-please\")"
   ]
  }
 ],
 "metadata": {
  "kernelspec": {
   "display_name": "env",
   "language": "python",
   "name": "python3"
  },
  "language_info": {
   "codemirror_mode": {
    "name": "ipython",
    "version": 3
   },
   "file_extension": ".py",
   "mimetype": "text/x-python",
   "name": "python",
   "nbconvert_exporter": "python",
   "pygments_lexer": "ipython3",
   "version": "3.11.6"
  }
 },
 "nbformat": 4,
 "nbformat_minor": 2
}
